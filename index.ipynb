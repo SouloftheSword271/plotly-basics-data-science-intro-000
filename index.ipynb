{
 "cells": [
  {
   "cell_type": "markdown",
   "metadata": {},
   "source": [
    "# Going deeper with Plotly"
   ]
  },
  {
   "cell_type": "markdown",
   "metadata": {},
   "source": [
    "### Learning Objectives"
   ]
  },
  {
   "cell_type": "markdown",
   "metadata": {},
   "source": [
    "* Understand the iplot method\n",
    "* Understand how to create different traces/plots like a scatter plot, or a line plot\n",
    "* Understand how to have a chart with multiple traces"
   ]
  },
  {
   "cell_type": "markdown",
   "metadata": {},
   "source": [
    "### Introduction"
   ]
  },
  {
   "cell_type": "markdown",
   "metadata": {},
   "source": [
    "As you've seen in recent lessons, data science leans on data visualizations to draw inferences about our data, and to make sense of the math we use in making sense of this data.  We saw how plotting data with a bar chart can be used to show the relationship between $x$ and $y$ variables.  \n",
    "\n",
    "In this lesson, we'll explore more of the functionality of the Plotly library.  As we do so, pay careful attention to the data type that our methods require: whether they are dictionaries or lists, or lists of dictionaries.  Ok, let's go!"
   ]
  },
  {
   "cell_type": "markdown",
   "metadata": {},
   "source": [
    "### Drawing a line"
   ]
  },
  {
   "cell_type": "markdown",
   "metadata": {},
   "source": [
    "As you know, to get started with Plotly, we first install the library on our computer.  Let's do so in Jupyter by executing the cell below."
   ]
  },
  {
   "cell_type": "code",
   "execution_count": 1,
   "metadata": {},
   "outputs": [
    {
     "name": "stdout",
     "output_type": "stream",
     "text": [
      "Requirement already satisfied: plotly in /opt/conda/envs/learn-env/lib/python3.6/site-packages (3.1.0)\n",
      "Requirement already satisfied: decorator>=4.0.6 in /opt/conda/envs/learn-env/lib/python3.6/site-packages (from plotly) (4.3.0)\n",
      "Requirement already satisfied: nbformat>=4.2 in /opt/conda/envs/learn-env/lib/python3.6/site-packages (from plotly) (4.4.0)\n",
      "Requirement already satisfied: pytz in /opt/conda/envs/learn-env/lib/python3.6/site-packages (from plotly) (2018.5)\n",
      "Requirement already satisfied: requests in /opt/conda/envs/learn-env/lib/python3.6/site-packages (from plotly) (2.19.1)\n",
      "Requirement already satisfied: retrying>=1.3.3 in /opt/conda/envs/learn-env/lib/python3.6/site-packages (from plotly) (1.3.3)\n",
      "Requirement already satisfied: six in /opt/conda/envs/learn-env/lib/python3.6/site-packages (from plotly) (1.11.0)\n",
      "Requirement already satisfied: ipython-genutils in /opt/conda/envs/learn-env/lib/python3.6/site-packages (from nbformat>=4.2->plotly) (0.2.0)\n",
      "Requirement already satisfied: jupyter-core in /opt/conda/envs/learn-env/lib/python3.6/site-packages (from nbformat>=4.2->plotly) (4.4.0)\n",
      "Requirement already satisfied: jsonschema!=2.5.0,>=2.4 in /opt/conda/envs/learn-env/lib/python3.6/site-packages (from nbformat>=4.2->plotly) (2.6.0)\n",
      "Requirement already satisfied: traitlets>=4.1 in /opt/conda/envs/learn-env/lib/python3.6/site-packages (from nbformat>=4.2->plotly) (4.3.2)\n",
      "Requirement already satisfied: chardet<3.1.0,>=3.0.2 in /opt/conda/envs/learn-env/lib/python3.6/site-packages (from requests->plotly) (3.0.4)\n",
      "Requirement already satisfied: certifi>=2017.4.17 in /opt/conda/envs/learn-env/lib/python3.6/site-packages (from requests->plotly) (2018.8.13)\n",
      "Requirement already satisfied: idna<2.8,>=2.5 in /opt/conda/envs/learn-env/lib/python3.6/site-packages (from requests->plotly) (2.7)\n",
      "Requirement already satisfied: urllib3<1.24,>=1.21.1 in /opt/conda/envs/learn-env/lib/python3.6/site-packages (from requests->plotly) (1.23)\n",
      "\u001b[33mYou are using pip version 10.0.1, however version 19.2.1 is available.\n",
      "You should consider upgrading via the 'pip install --upgrade pip' command.\u001b[0m\n"
     ]
    }
   ],
   "source": [
    "!pip install plotly"
   ]
  },
  